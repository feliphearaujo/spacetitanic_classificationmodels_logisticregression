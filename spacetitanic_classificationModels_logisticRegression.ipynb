{
  "nbformat": 4,
  "nbformat_minor": 0,
  "metadata": {
    "colab": {
      "provenance": []
    },
    "kernelspec": {
      "name": "python3",
      "display_name": "Python 3"
    },
    "language_info": {
      "name": "python"
    }
  },
  "cells": [
    {
      "cell_type": "markdown",
      "source": [
        "BIbliotecas"
      ],
      "metadata": {
        "id": "T3ZrQ_X4G1hX"
      }
    },
    {
      "cell_type": "code",
      "execution_count": 1,
      "metadata": {
        "id": "FTwIAFDFKoM0"
      },
      "outputs": [],
      "source": [
        "import pandas as pd\n",
        "import matplotlib.pyplot as plt\n",
        "import seaborn as sns\n",
        "from pandas import set_option\n",
        "from scipy import stats"
      ]
    },
    {
      "cell_type": "markdown",
      "source": [
        "Datasets"
      ],
      "metadata": {
        "id": "jddnaFuMG5O5"
      }
    },
    {
      "cell_type": "code",
      "source": [
        "url1='https://github.com/gustavowillam/ML/blob/main/trabalhos/Trab2/train.csv?raw=true'\n",
        "url2='https://github.com/gustavowillam/ML/blob/main/trabalhos/Trab2/test.csv?raw=true'"
      ],
      "metadata": {
        "id": "uD7E0FvlGyuu"
      },
      "execution_count": 2,
      "outputs": []
    },
    {
      "cell_type": "code",
      "source": [
        "train = pd.read_csv(url1, sep=\",\")\n",
        "test = pd.read_csv(url2)"
      ],
      "metadata": {
        "id": "5S-DVrvAIO0X"
      },
      "execution_count": 3,
      "outputs": []
    },
    {
      "cell_type": "code",
      "source": [
        "set_option('display.max_rows', None)\n"
      ],
      "metadata": {
        "id": "FlibEVrzzGvO"
      },
      "execution_count": 4,
      "outputs": []
    },
    {
      "cell_type": "code",
      "source": [
        "print(test)\n"
      ],
      "metadata": {
        "id": "6M8UsOBdIem1"
      },
      "execution_count": null,
      "outputs": []
    },
    {
      "cell_type": "markdown",
      "source": [
        "Analise EDA"
      ],
      "metadata": {
        "id": "DSOfbpUgJkEP"
      }
    },
    {
      "cell_type": "code",
      "source": [
        "train.info()"
      ],
      "metadata": {
        "id": "46q5_QIbJoXi"
      },
      "execution_count": null,
      "outputs": []
    },
    {
      "cell_type": "code",
      "source": [
        "train.shape"
      ],
      "metadata": {
        "id": "SU3EsDW8KS1J"
      },
      "execution_count": null,
      "outputs": []
    },
    {
      "cell_type": "markdown",
      "source": [
        "excluindo colunas"
      ],
      "metadata": {
        "id": "HqwKbZ_zU2nO"
      }
    },
    {
      "cell_type": "code",
      "source": [
        "train = train.drop(\"PassengerId\", axis=1)"
      ],
      "metadata": {
        "id": "EpuKxXUxzvqG"
      },
      "execution_count": 5,
      "outputs": []
    },
    {
      "cell_type": "code",
      "source": [
        "train = train.drop(\"Name\", axis=1)"
      ],
      "metadata": {
        "id": "_k4-FlA8126v"
      },
      "execution_count": 6,
      "outputs": []
    },
    {
      "cell_type": "markdown",
      "source": [
        "mostrando respostas"
      ],
      "metadata": {
        "id": "9wFoJvyHU9RT"
      }
    },
    {
      "cell_type": "code",
      "source": [
        "print(train[\"Transported\"].value_counts())\n",
        "print(train[\"Transported\"].value_counts(normalize=True).map(\"{:.1%}\".format))\n",
        "\n",
        "#plot the pie chart of education categories\n",
        "train.Transported.value_counts(normalize=False).plot.pie()\n",
        "plt.show()"
      ],
      "metadata": {
        "id": "PbQlohjh1udv"
      },
      "execution_count": null,
      "outputs": []
    },
    {
      "cell_type": "markdown",
      "source": [
        "substituindo valores nulos"
      ],
      "metadata": {
        "id": "LHdvwj4oVEkm"
      }
    },
    {
      "cell_type": "code",
      "source": [
        "train.isnull().sum()"
      ],
      "metadata": {
        "colab": {
          "base_uri": "https://localhost:8080/"
        },
        "id": "-UQnbB5Z3BDH",
        "outputId": "388b92f1-4c97-4c81-fc23-fd45cbdf42e2"
      },
      "execution_count": null,
      "outputs": [
        {
          "output_type": "execute_result",
          "data": {
            "text/plain": [
              "HomePlanet      0\n",
              "CryoSleep       0\n",
              "Cabin           0\n",
              "Destination     0\n",
              "Age             0\n",
              "VIP             0\n",
              "RoomService     0\n",
              "FoodCourt       0\n",
              "ShoppingMall    0\n",
              "Spa             0\n",
              "VRDeck          0\n",
              "Transported     0\n",
              "dtype: int64"
            ]
          },
          "metadata": {},
          "execution_count": 141
        }
      ]
    },
    {
      "cell_type": "code",
      "source": [
        "#função que preenche dados ausentes categóricos com a moda\n",
        "\n",
        "def preencher_com_moda(df, colunas):\n",
        "    for coluna in colunas:\n",
        "        moda = stats.mode(df[coluna])[0][0]\n",
        "        df[coluna].fillna(moda, inplace=True)"
      ],
      "metadata": {
        "id": "iSebiYSu3Jmx"
      },
      "execution_count": 7,
      "outputs": []
    },
    {
      "cell_type": "code",
      "source": [
        "#função que preenche dados ausentes com a média\n",
        "\n",
        "\n",
        "def preencher_com_media(df, colunas):\n",
        "    for coluna in colunas:\n",
        "        media = df[coluna].mean()\n",
        "        df[coluna].fillna(media, inplace=True)\n"
      ],
      "metadata": {
        "id": "ls1yfe_yC5vU"
      },
      "execution_count": 8,
      "outputs": []
    },
    {
      "cell_type": "code",
      "source": [
        "#chamando colunas categoricas do df para preencher valores nulos\n",
        "dtypes = train.dtypes.to_dict()\n",
        "\n",
        "for col_name, typ in dtypes.items():\n",
        "    if (typ == 'object'):\n",
        "        preencher_com_moda(train,[col_name])\n",
        "    else:\n",
        "        preencher_com_media(train,[col_name])"
      ],
      "metadata": {
        "colab": {
          "base_uri": "https://localhost:8080/"
        },
        "id": "tiB79E694f1X",
        "outputId": "846ae521-7caa-4abf-ff79-3aef42c31f8c"
      },
      "execution_count": 9,
      "outputs": [
        {
          "output_type": "stream",
          "name": "stderr",
          "text": [
            "<ipython-input-7-147038306be2>:5: FutureWarning: Unlike other reduction functions (e.g. `skew`, `kurtosis`), the default behavior of `mode` typically preserves the axis it acts along. In SciPy 1.11.0, this behavior will change: the default value of `keepdims` will become False, the `axis` over which the statistic is taken will be eliminated, and the value None will no longer be accepted. Set `keepdims` to True or False to avoid this warning.\n",
            "  moda = stats.mode(df[coluna])[0][0]\n",
            "<ipython-input-7-147038306be2>:5: DeprecationWarning: Support for non-numeric arrays has been deprecated as of SciPy 1.9.0 and will be removed in 1.11.0. `pandas.DataFrame.mode` can be used instead, see https://pandas.pydata.org/docs/reference/api/pandas.DataFrame.mode.html.\n",
            "  moda = stats.mode(df[coluna])[0][0]\n"
          ]
        }
      ]
    },
    {
      "cell_type": "code",
      "source": [
        "train.Cabin.mode()\n"
      ],
      "metadata": {
        "colab": {
          "base_uri": "https://localhost:8080/"
        },
        "id": "4f5-hA3lJY4r",
        "outputId": "20746564-c9e3-4c7d-8a1a-2254f2bb3f70"
      },
      "execution_count": null,
      "outputs": [
        {
          "output_type": "execute_result",
          "data": {
            "text/plain": [
              "0    G/734/S\n",
              "Name: Cabin, dtype: object"
            ]
          },
          "metadata": {},
          "execution_count": 139
        }
      ]
    },
    {
      "cell_type": "code",
      "source": [
        "train.Cabin.fillna(\" G/734/S\",inplace=True)"
      ],
      "metadata": {
        "id": "poQu0Q4ILqeq"
      },
      "execution_count": 10,
      "outputs": []
    },
    {
      "cell_type": "markdown",
      "source": [
        "convertendo dados categóricos em numéricos"
      ],
      "metadata": {
        "id": "G5L3UkzDVSMB"
      }
    },
    {
      "cell_type": "code",
      "source": [
        "train = pd.get_dummies(train, columns=[\"HomePlanet\",\"Destination\"])"
      ],
      "metadata": {
        "id": "ienSh5GOMuVi"
      },
      "execution_count": 11,
      "outputs": []
    },
    {
      "cell_type": "code",
      "source": [
        "dtypes = train.dtypes.to_dict()\n",
        "\n",
        "for col_name, typ in dtypes.items():\n",
        "    if (typ == 'bool'):\n",
        "        print(col_name)"
      ],
      "metadata": {
        "id": "y3Mb5yXVQfte",
        "colab": {
          "base_uri": "https://localhost:8080/"
        },
        "outputId": "89bd20e7-e03a-4cf0-941e-8d9cfe8e8c28"
      },
      "execution_count": 12,
      "outputs": [
        {
          "output_type": "stream",
          "name": "stdout",
          "text": [
            "CryoSleep\n",
            "VIP\n",
            "Transported\n"
          ]
        }
      ]
    },
    {
      "cell_type": "code",
      "source": [
        "train.Cabin = train.Cabin.astype('category')\n",
        "train.Cabin = train.Cabin.cat.codes"
      ],
      "metadata": {
        "id": "_zHbEdHqOnsb"
      },
      "execution_count": 13,
      "outputs": []
    },
    {
      "cell_type": "code",
      "source": [
        "train.CryoSleep = train.CryoSleep.astype('category')\n",
        "train.CryoSleep = train.CryoSleep.cat.codes\n",
        "\n",
        "train.Transported = train.Transported.astype('category')\n",
        "train.Transported = train.Transported.cat.codes\n",
        "\n",
        "train.VIP = train.VIP.astype('category')\n",
        "train.VIP = train.VIP.cat.codes"
      ],
      "metadata": {
        "id": "dpNcnk0WPmRt"
      },
      "execution_count": 14,
      "outputs": []
    },
    {
      "cell_type": "markdown",
      "source": [
        "Analisando correlação"
      ],
      "metadata": {
        "id": "wH5uLhU-VYXm"
      }
    },
    {
      "cell_type": "code",
      "source": [
        "train.corr()['Transported']"
      ],
      "metadata": {
        "id": "HOP6i4ah8Nlf"
      },
      "execution_count": null,
      "outputs": []
    },
    {
      "cell_type": "markdown",
      "source": [
        "Separando os dados"
      ],
      "metadata": {
        "id": "IMOj1y8PUSrK"
      }
    },
    {
      "cell_type": "code",
      "source": [
        "x_train = train.copy()\n",
        "x_train  = x_train.drop(['Transported'], axis=1) #remove a variável dependente do X\n",
        "y_train = train[['Transported']]"
      ],
      "metadata": {
        "id": "oBBS6nWZUO7x"
      },
      "execution_count": 15,
      "outputs": []
    },
    {
      "cell_type": "markdown",
      "source": [
        "importando o modelo"
      ],
      "metadata": {
        "id": "m3FulWmwLDjd"
      }
    },
    {
      "cell_type": "code",
      "source": [
        "from sklearn.linear_model import LogisticRegression"
      ],
      "metadata": {
        "id": "TqbNzumpLAAX"
      },
      "execution_count": 16,
      "outputs": []
    },
    {
      "cell_type": "markdown",
      "source": [
        "fazendo o modelo"
      ],
      "metadata": {
        "id": "mU2km7mNLOSa"
      }
    },
    {
      "cell_type": "code",
      "source": [
        "#cria uma instancia do modelo\n",
        "clf = LogisticRegression()\n",
        "\n",
        "#ajustando o modelo\n",
        "clf.fit(x_train, y_train)\n",
        "\n",
        "y_pred_train = clf.predict(x_train)\n",
        "\n",
        "#To retrieve the accuracy da classificação:\n",
        "accuracy_train = clf.score(x_train, y_train)  #mede o score (acuracy) do modelo\n",
        "print('Acuracia do Treino:', accuracy_train)"
      ],
      "metadata": {
        "colab": {
          "base_uri": "https://localhost:8080/"
        },
        "id": "wy3Td0TGLF6h",
        "outputId": "00704705-1a83-493e-b1c7-ff19350a8a32"
      },
      "execution_count": 17,
      "outputs": [
        {
          "output_type": "stream",
          "name": "stdout",
          "text": [
            "Acuracia do Treino: 0.7864948809386862\n"
          ]
        },
        {
          "output_type": "stream",
          "name": "stderr",
          "text": [
            "/usr/local/lib/python3.10/dist-packages/sklearn/utils/validation.py:1143: DataConversionWarning: A column-vector y was passed when a 1d array was expected. Please change the shape of y to (n_samples, ), for example using ravel().\n",
            "  y = column_or_1d(y, warn=True)\n",
            "/usr/local/lib/python3.10/dist-packages/sklearn/linear_model/_logistic.py:458: ConvergenceWarning: lbfgs failed to converge (status=1):\n",
            "STOP: TOTAL NO. of ITERATIONS REACHED LIMIT.\n",
            "\n",
            "Increase the number of iterations (max_iter) or scale the data as shown in:\n",
            "    https://scikit-learn.org/stable/modules/preprocessing.html\n",
            "Please also refer to the documentation for alternative solver options:\n",
            "    https://scikit-learn.org/stable/modules/linear_model.html#logistic-regression\n",
            "  n_iter_i = _check_optimize_result(\n"
          ]
        }
      ]
    },
    {
      "cell_type": "markdown",
      "source": [
        "testando o modelo"
      ],
      "metadata": {
        "id": "JPAUViXfLhHE"
      }
    },
    {
      "cell_type": "code",
      "source": [
        "test.info()"
      ],
      "metadata": {
        "colab": {
          "base_uri": "https://localhost:8080/"
        },
        "id": "1iHtRz2OLoe8",
        "outputId": "419c1ef0-af12-49b4-d98e-4de029f94de2"
      },
      "execution_count": 18,
      "outputs": [
        {
          "output_type": "stream",
          "name": "stdout",
          "text": [
            "<class 'pandas.core.frame.DataFrame'>\n",
            "RangeIndex: 4277 entries, 0 to 4276\n",
            "Data columns (total 13 columns):\n",
            " #   Column        Non-Null Count  Dtype  \n",
            "---  ------        --------------  -----  \n",
            " 0   PassengerId   4277 non-null   object \n",
            " 1   HomePlanet    4190 non-null   object \n",
            " 2   CryoSleep     4184 non-null   object \n",
            " 3   Cabin         4177 non-null   object \n",
            " 4   Destination   4185 non-null   object \n",
            " 5   Age           4186 non-null   float64\n",
            " 6   VIP           4184 non-null   object \n",
            " 7   RoomService   4195 non-null   float64\n",
            " 8   FoodCourt     4171 non-null   float64\n",
            " 9   ShoppingMall  4179 non-null   float64\n",
            " 10  Spa           4176 non-null   float64\n",
            " 11  VRDeck        4197 non-null   float64\n",
            " 12  Name          4183 non-null   object \n",
            "dtypes: float64(6), object(7)\n",
            "memory usage: 434.5+ KB\n"
          ]
        }
      ]
    },
    {
      "cell_type": "code",
      "source": [
        "test = test.drop(\"PassengerId\", axis=1)"
      ],
      "metadata": {
        "id": "9D34rmGjLy-i"
      },
      "execution_count": 19,
      "outputs": []
    },
    {
      "cell_type": "code",
      "source": [
        "test = test.drop(\"Name\", axis=1)"
      ],
      "metadata": {
        "id": "Gc56ubMML8h7"
      },
      "execution_count": 20,
      "outputs": []
    },
    {
      "cell_type": "code",
      "source": [
        "test.isnull().sum()"
      ],
      "metadata": {
        "colab": {
          "base_uri": "https://localhost:8080/"
        },
        "id": "miUb2UgyMIzD",
        "outputId": "af692956-8911-4a55-8da4-6bce2a53ee38"
      },
      "execution_count": 28,
      "outputs": [
        {
          "output_type": "execute_result",
          "data": {
            "text/plain": [
              "HomePlanet      0\n",
              "CryoSleep       0\n",
              "Cabin           0\n",
              "Destination     0\n",
              "Age             0\n",
              "VIP             0\n",
              "RoomService     0\n",
              "FoodCourt       0\n",
              "ShoppingMall    0\n",
              "Spa             0\n",
              "VRDeck          0\n",
              "dtype: int64"
            ]
          },
          "metadata": {},
          "execution_count": 28
        }
      ]
    },
    {
      "cell_type": "code",
      "source": [
        "dtypes = test.dtypes.to_dict()\n",
        "\n",
        "for col_name, typ in dtypes.items():\n",
        "    if (typ == 'object'):\n",
        "        preencher_com_moda(test,[col_name])\n",
        "    else:\n",
        "        preencher_com_media(test,[col_name])"
      ],
      "metadata": {
        "id": "RB_dZkp2MQhA"
      },
      "execution_count": null,
      "outputs": []
    },
    {
      "cell_type": "code",
      "source": [
        "test.Cabin.fillna(\" G/734/S\",inplace=True)"
      ],
      "metadata": {
        "id": "pJMJwjmRM0b_"
      },
      "execution_count": 27,
      "outputs": []
    },
    {
      "cell_type": "code",
      "source": [
        "test = pd.get_dummies(test, columns=[\"HomePlanet\",\"Destination\"])"
      ],
      "metadata": {
        "id": "u0Q6Je9PM-KF"
      },
      "execution_count": 29,
      "outputs": []
    },
    {
      "cell_type": "code",
      "source": [
        "test.Cabin = test.Cabin.astype('category')\n",
        "test.Cabin = test.Cabin.cat.codes"
      ],
      "metadata": {
        "id": "JOwwqYRONToh"
      },
      "execution_count": 30,
      "outputs": []
    },
    {
      "cell_type": "code",
      "source": [
        "test.CryoSleep = test.CryoSleep.astype('category')\n",
        "test.CryoSleep = test.CryoSleep.cat.codes\n",
        "\n",
        "\n",
        "test.VIP = test.VIP.astype('category')\n",
        "test.VIP = test.VIP.cat.codes"
      ],
      "metadata": {
        "id": "vmSldmdsNY8k"
      },
      "execution_count": 33,
      "outputs": []
    },
    {
      "cell_type": "code",
      "source": [
        "test.info()"
      ],
      "metadata": {
        "colab": {
          "base_uri": "https://localhost:8080/"
        },
        "id": "UFNPzj6BN2R1",
        "outputId": "aba5b2dc-304f-4e63-eb79-7edbfab4febe"
      },
      "execution_count": 35,
      "outputs": [
        {
          "output_type": "stream",
          "name": "stdout",
          "text": [
            "<class 'pandas.core.frame.DataFrame'>\n",
            "RangeIndex: 4277 entries, 0 to 4276\n",
            "Data columns (total 15 columns):\n",
            " #   Column                     Non-Null Count  Dtype  \n",
            "---  ------                     --------------  -----  \n",
            " 0   CryoSleep                  4277 non-null   int8   \n",
            " 1   Cabin                      4277 non-null   int16  \n",
            " 2   Age                        4277 non-null   float64\n",
            " 3   VIP                        4277 non-null   int8   \n",
            " 4   RoomService                4277 non-null   float64\n",
            " 5   FoodCourt                  4277 non-null   float64\n",
            " 6   ShoppingMall               4277 non-null   float64\n",
            " 7   Spa                        4277 non-null   float64\n",
            " 8   VRDeck                     4277 non-null   float64\n",
            " 9   HomePlanet_Earth           4277 non-null   uint8  \n",
            " 10  HomePlanet_Europa          4277 non-null   uint8  \n",
            " 11  HomePlanet_Mars            4277 non-null   uint8  \n",
            " 12  Destination_55 Cancri e    4277 non-null   uint8  \n",
            " 13  Destination_PSO J318.5-22  4277 non-null   uint8  \n",
            " 14  Destination_TRAPPIST-1e    4277 non-null   uint8  \n",
            "dtypes: float64(6), int16(1), int8(2), uint8(6)\n",
            "memory usage: 242.4 KB\n"
          ]
        }
      ]
    },
    {
      "cell_type": "code",
      "source": [
        "x_train.info()"
      ],
      "metadata": {
        "colab": {
          "base_uri": "https://localhost:8080/"
        },
        "id": "4kjKLm-vN51_",
        "outputId": "877a2126-df5b-4985-bd94-85b65be863b1"
      },
      "execution_count": 36,
      "outputs": [
        {
          "output_type": "stream",
          "name": "stdout",
          "text": [
            "<class 'pandas.core.frame.DataFrame'>\n",
            "RangeIndex: 8693 entries, 0 to 8692\n",
            "Data columns (total 15 columns):\n",
            " #   Column                     Non-Null Count  Dtype  \n",
            "---  ------                     --------------  -----  \n",
            " 0   CryoSleep                  8693 non-null   int8   \n",
            " 1   Cabin                      8693 non-null   int16  \n",
            " 2   Age                        8693 non-null   float64\n",
            " 3   VIP                        8693 non-null   int8   \n",
            " 4   RoomService                8693 non-null   float64\n",
            " 5   FoodCourt                  8693 non-null   float64\n",
            " 6   ShoppingMall               8693 non-null   float64\n",
            " 7   Spa                        8693 non-null   float64\n",
            " 8   VRDeck                     8693 non-null   float64\n",
            " 9   HomePlanet_Earth           8693 non-null   uint8  \n",
            " 10  HomePlanet_Europa          8693 non-null   uint8  \n",
            " 11  HomePlanet_Mars            8693 non-null   uint8  \n",
            " 12  Destination_55 Cancri e    8693 non-null   uint8  \n",
            " 13  Destination_PSO J318.5-22  8693 non-null   uint8  \n",
            " 14  Destination_TRAPPIST-1e    8693 non-null   uint8  \n",
            "dtypes: float64(6), int16(1), int8(2), uint8(6)\n",
            "memory usage: 492.5 KB\n"
          ]
        }
      ]
    },
    {
      "cell_type": "code",
      "source": [
        "y_pred_test = clf.predict(test)\n"
      ],
      "metadata": {
        "id": "DG7tjzAOLjdy"
      },
      "execution_count": 38,
      "outputs": []
    },
    {
      "cell_type": "markdown",
      "source": [
        "Gerando arquivo para submissão"
      ],
      "metadata": {
        "id": "2JBbRXswYOfY"
      }
    },
    {
      "cell_type": "code",
      "source": [
        "test_submit = pd.DataFrame()"
      ],
      "metadata": {
        "id": "KTnCSuDfO_Mc"
      },
      "execution_count": 51,
      "outputs": []
    },
    {
      "cell_type": "code",
      "source": [
        "modelo = pd.read_csv(url2)"
      ],
      "metadata": {
        "id": "Vtn9lEaZYnLF"
      },
      "execution_count": 52,
      "outputs": []
    },
    {
      "cell_type": "code",
      "source": [
        "modelo.info()"
      ],
      "metadata": {
        "id": "cVrSR_WKYp55"
      },
      "execution_count": null,
      "outputs": []
    },
    {
      "cell_type": "code",
      "source": [
        "modelo.isnull().sum()"
      ],
      "metadata": {
        "colab": {
          "base_uri": "https://localhost:8080/"
        },
        "id": "0kvOWx2JYvut",
        "outputId": "b29bb942-2fff-433b-b152-9327b200e80e"
      },
      "execution_count": 55,
      "outputs": [
        {
          "output_type": "execute_result",
          "data": {
            "text/plain": [
              "PassengerId       0\n",
              "HomePlanet       87\n",
              "CryoSleep        93\n",
              "Cabin           100\n",
              "Destination      92\n",
              "Age              91\n",
              "VIP              93\n",
              "RoomService      82\n",
              "FoodCourt       106\n",
              "ShoppingMall     98\n",
              "Spa             101\n",
              "VRDeck           80\n",
              "Name             94\n",
              "dtype: int64"
            ]
          },
          "metadata": {},
          "execution_count": 55
        }
      ]
    },
    {
      "cell_type": "code",
      "source": [
        "\n",
        "\n",
        "test_submit[\"PassengerId\"] = modelo['PassengerId']\n",
        "test_submit[\"Transported\"] = y_pred_test"
      ],
      "metadata": {
        "id": "E57EzcXeYIPO"
      },
      "execution_count": 57,
      "outputs": []
    },
    {
      "cell_type": "code",
      "source": [
        "test_submit.info()"
      ],
      "metadata": {
        "colab": {
          "base_uri": "https://localhost:8080/"
        },
        "id": "RviYhEgWZVso",
        "outputId": "0b52e7c1-04cd-46cd-bef9-a46f47c58342"
      },
      "execution_count": 60,
      "outputs": [
        {
          "output_type": "stream",
          "name": "stdout",
          "text": [
            "<class 'pandas.core.frame.DataFrame'>\n",
            "RangeIndex: 4277 entries, 0 to 4276\n",
            "Data columns (total 2 columns):\n",
            " #   Column       Non-Null Count  Dtype \n",
            "---  ------       --------------  ----- \n",
            " 0   PassengerId  4277 non-null   object\n",
            " 1   Transported  4277 non-null   bool  \n",
            "dtypes: bool(1), object(1)\n",
            "memory usage: 37.7+ KB\n"
          ]
        }
      ]
    },
    {
      "cell_type": "code",
      "source": [
        "test_submit['Transported'] = test_submit.Transported.astype(bool)\n"
      ],
      "metadata": {
        "id": "Y50lX4IsZbvi"
      },
      "execution_count": 59,
      "outputs": []
    },
    {
      "cell_type": "code",
      "source": [
        "test_submit.head()"
      ],
      "metadata": {
        "colab": {
          "base_uri": "https://localhost:8080/",
          "height": 206
        },
        "id": "KnjH4LsoZs1N",
        "outputId": "ecfd34b4-280f-40c4-82e6-d8108c535ef5"
      },
      "execution_count": 61,
      "outputs": [
        {
          "output_type": "execute_result",
          "data": {
            "text/plain": [
              "  PassengerId  Transported\n",
              "0     0013_01        False\n",
              "1     0018_01        False\n",
              "2     0019_01         True\n",
              "3     0021_01         True\n",
              "4     0023_01         True"
            ],
            "text/html": [
              "\n",
              "  <div id=\"df-4e619462-e909-4346-8dfb-ec3a4c50887c\">\n",
              "    <div class=\"colab-df-container\">\n",
              "      <div>\n",
              "<style scoped>\n",
              "    .dataframe tbody tr th:only-of-type {\n",
              "        vertical-align: middle;\n",
              "    }\n",
              "\n",
              "    .dataframe tbody tr th {\n",
              "        vertical-align: top;\n",
              "    }\n",
              "\n",
              "    .dataframe thead th {\n",
              "        text-align: right;\n",
              "    }\n",
              "</style>\n",
              "<table border=\"1\" class=\"dataframe\">\n",
              "  <thead>\n",
              "    <tr style=\"text-align: right;\">\n",
              "      <th></th>\n",
              "      <th>PassengerId</th>\n",
              "      <th>Transported</th>\n",
              "    </tr>\n",
              "  </thead>\n",
              "  <tbody>\n",
              "    <tr>\n",
              "      <th>0</th>\n",
              "      <td>0013_01</td>\n",
              "      <td>False</td>\n",
              "    </tr>\n",
              "    <tr>\n",
              "      <th>1</th>\n",
              "      <td>0018_01</td>\n",
              "      <td>False</td>\n",
              "    </tr>\n",
              "    <tr>\n",
              "      <th>2</th>\n",
              "      <td>0019_01</td>\n",
              "      <td>True</td>\n",
              "    </tr>\n",
              "    <tr>\n",
              "      <th>3</th>\n",
              "      <td>0021_01</td>\n",
              "      <td>True</td>\n",
              "    </tr>\n",
              "    <tr>\n",
              "      <th>4</th>\n",
              "      <td>0023_01</td>\n",
              "      <td>True</td>\n",
              "    </tr>\n",
              "  </tbody>\n",
              "</table>\n",
              "</div>\n",
              "      <button class=\"colab-df-convert\" onclick=\"convertToInteractive('df-4e619462-e909-4346-8dfb-ec3a4c50887c')\"\n",
              "              title=\"Convert this dataframe to an interactive table.\"\n",
              "              style=\"display:none;\">\n",
              "        \n",
              "  <svg xmlns=\"http://www.w3.org/2000/svg\" height=\"24px\"viewBox=\"0 0 24 24\"\n",
              "       width=\"24px\">\n",
              "    <path d=\"M0 0h24v24H0V0z\" fill=\"none\"/>\n",
              "    <path d=\"M18.56 5.44l.94 2.06.94-2.06 2.06-.94-2.06-.94-.94-2.06-.94 2.06-2.06.94zm-11 1L8.5 8.5l.94-2.06 2.06-.94-2.06-.94L8.5 2.5l-.94 2.06-2.06.94zm10 10l.94 2.06.94-2.06 2.06-.94-2.06-.94-.94-2.06-.94 2.06-2.06.94z\"/><path d=\"M17.41 7.96l-1.37-1.37c-.4-.4-.92-.59-1.43-.59-.52 0-1.04.2-1.43.59L10.3 9.45l-7.72 7.72c-.78.78-.78 2.05 0 2.83L4 21.41c.39.39.9.59 1.41.59.51 0 1.02-.2 1.41-.59l7.78-7.78 2.81-2.81c.8-.78.8-2.07 0-2.86zM5.41 20L4 18.59l7.72-7.72 1.47 1.35L5.41 20z\"/>\n",
              "  </svg>\n",
              "      </button>\n",
              "      \n",
              "  <style>\n",
              "    .colab-df-container {\n",
              "      display:flex;\n",
              "      flex-wrap:wrap;\n",
              "      gap: 12px;\n",
              "    }\n",
              "\n",
              "    .colab-df-convert {\n",
              "      background-color: #E8F0FE;\n",
              "      border: none;\n",
              "      border-radius: 50%;\n",
              "      cursor: pointer;\n",
              "      display: none;\n",
              "      fill: #1967D2;\n",
              "      height: 32px;\n",
              "      padding: 0 0 0 0;\n",
              "      width: 32px;\n",
              "    }\n",
              "\n",
              "    .colab-df-convert:hover {\n",
              "      background-color: #E2EBFA;\n",
              "      box-shadow: 0px 1px 2px rgba(60, 64, 67, 0.3), 0px 1px 3px 1px rgba(60, 64, 67, 0.15);\n",
              "      fill: #174EA6;\n",
              "    }\n",
              "\n",
              "    [theme=dark] .colab-df-convert {\n",
              "      background-color: #3B4455;\n",
              "      fill: #D2E3FC;\n",
              "    }\n",
              "\n",
              "    [theme=dark] .colab-df-convert:hover {\n",
              "      background-color: #434B5C;\n",
              "      box-shadow: 0px 1px 3px 1px rgba(0, 0, 0, 0.15);\n",
              "      filter: drop-shadow(0px 1px 2px rgba(0, 0, 0, 0.3));\n",
              "      fill: #FFFFFF;\n",
              "    }\n",
              "  </style>\n",
              "\n",
              "      <script>\n",
              "        const buttonEl =\n",
              "          document.querySelector('#df-4e619462-e909-4346-8dfb-ec3a4c50887c button.colab-df-convert');\n",
              "        buttonEl.style.display =\n",
              "          google.colab.kernel.accessAllowed ? 'block' : 'none';\n",
              "\n",
              "        async function convertToInteractive(key) {\n",
              "          const element = document.querySelector('#df-4e619462-e909-4346-8dfb-ec3a4c50887c');\n",
              "          const dataTable =\n",
              "            await google.colab.kernel.invokeFunction('convertToInteractive',\n",
              "                                                     [key], {});\n",
              "          if (!dataTable) return;\n",
              "\n",
              "          const docLinkHtml = 'Like what you see? Visit the ' +\n",
              "            '<a target=\"_blank\" href=https://colab.research.google.com/notebooks/data_table.ipynb>data table notebook</a>'\n",
              "            + ' to learn more about interactive tables.';\n",
              "          element.innerHTML = '';\n",
              "          dataTable['output_type'] = 'display_data';\n",
              "          await google.colab.output.renderOutput(dataTable, element);\n",
              "          const docLink = document.createElement('div');\n",
              "          docLink.innerHTML = docLinkHtml;\n",
              "          element.appendChild(docLink);\n",
              "        }\n",
              "      </script>\n",
              "    </div>\n",
              "  </div>\n",
              "  "
            ]
          },
          "metadata": {},
          "execution_count": 61
        }
      ]
    },
    {
      "cell_type": "code",
      "source": [
        "test_submit = test_submit.to_csv('submission_feliphe.csv', index=False)"
      ],
      "metadata": {
        "id": "9LtrNYDQaC4v"
      },
      "execution_count": 62,
      "outputs": []
    }
  ]
}